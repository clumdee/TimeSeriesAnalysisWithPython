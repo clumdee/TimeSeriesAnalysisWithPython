{
 "cells": [
  {
   "cell_type": "code",
   "execution_count": 1,
   "metadata": {
    "collapsed": true
   },
   "outputs": [],
   "source": [
    "import pandas as pd\n",
    "import numpy as np"
   ]
  },
  {
   "cell_type": "markdown",
   "metadata": {},
   "source": [
    "# Generate series of times"
   ]
  },
  {
   "cell_type": "code",
   "execution_count": 2,
   "metadata": {},
   "outputs": [
    {
     "data": {
      "text/plain": [
       "DatetimeIndex(['2016-07-31 10:15:00', '2016-08-31 10:15:00',\n",
       "               '2016-09-30 10:15:00', '2016-10-31 10:15:00',\n",
       "               '2016-11-30 10:15:00', '2016-12-31 10:15:00',\n",
       "               '2017-01-31 10:15:00', '2017-02-28 10:15:00',\n",
       "               '2017-03-31 10:15:00', '2017-04-30 10:15:00'],\n",
       "              dtype='datetime64[ns]', freq='M')"
      ]
     },
     "execution_count": 2,
     "metadata": {},
     "output_type": "execute_result"
    }
   ],
   "source": [
    "# specify with start date & number of periods\n",
    "rng = pd.date_range('2016 Jul 15 10:15', periods = 10, freq = 'M')\n",
    "rng"
   ]
  },
  {
   "cell_type": "code",
   "execution_count": 3,
   "metadata": {},
   "outputs": [
    {
     "data": {
      "text/plain": [
       "DatetimeIndex(['2016-07-15 10:15:00+07:00', '2016-07-15 18:15:00+07:00',\n",
       "               '2016-07-16 02:15:00+07:00', '2016-07-16 10:15:00+07:00',\n",
       "               '2016-07-16 18:15:00+07:00', '2016-07-17 02:15:00+07:00',\n",
       "               '2016-07-17 10:15:00+07:00', '2016-07-17 18:15:00+07:00',\n",
       "               '2016-07-18 02:15:00+07:00', '2016-07-18 10:15:00+07:00',\n",
       "               '2016-07-18 18:15:00+07:00', '2016-07-19 02:15:00+07:00',\n",
       "               '2016-07-19 10:15:00+07:00', '2016-07-19 18:15:00+07:00',\n",
       "               '2016-07-20 02:15:00+07:00', '2016-07-20 10:15:00+07:00',\n",
       "               '2016-07-20 18:15:00+07:00', '2016-07-21 02:15:00+07:00',\n",
       "               '2016-07-21 10:15:00+07:00', '2016-07-21 18:15:00+07:00',\n",
       "               '2016-07-22 02:15:00+07:00', '2016-07-22 10:15:00+07:00',\n",
       "               '2016-07-22 18:15:00+07:00', '2016-07-23 02:15:00+07:00',\n",
       "               '2016-07-23 10:15:00+07:00', '2016-07-23 18:15:00+07:00',\n",
       "               '2016-07-24 02:15:00+07:00', '2016-07-24 10:15:00+07:00',\n",
       "               '2016-07-24 18:15:00+07:00'],\n",
       "              dtype='datetime64[ns, Asia/Bangkok]', freq='8H')"
      ]
     },
     "execution_count": 3,
     "metadata": {},
     "output_type": "execute_result"
    }
   ],
   "source": [
    "rng = pd.date_range('2016 Jul 15 10:15', '2016 Jul 25', freq='8H', tz='Asia/Bangkok')\n",
    "rng\n",
    "\n",
    "# counting backward also works\n",
    "# rng = pd.date_range('2016 Jul 15 10:15', '2016 Jul 25', freq = '8H')"
   ]
  },
  {
   "cell_type": "markdown",
   "metadata": {
    "collapsed": true
   },
   "source": [
    "### let's explore some of the other options for date_range\n",
    "http://pandas.pydata.org/pandas-docs/stable/generated/pandas.date_range.html\n",
    "\n",
    "In particular, let's take a look at 'normalize' and 'end'"
   ]
  },
  {
   "cell_type": "code",
   "execution_count": 4,
   "metadata": {},
   "outputs": [
    {
     "data": {
      "text/plain": [
       "DatetimeIndex(['2016-07-31', '2016-08-31', '2016-09-30', '2016-10-31',\n",
       "               '2016-11-30', '2016-12-31', '2017-01-31', '2017-02-28',\n",
       "               '2017-03-31', '2017-04-30'],\n",
       "              dtype='datetime64[ns]', freq='M')"
      ]
     },
     "execution_count": 4,
     "metadata": {},
     "output_type": "execute_result"
    }
   ],
   "source": [
    "rng = pd.date_range('2016 Jul 15', periods = 10, freq = 'M')\n",
    "rng"
   ]
  },
  {
   "cell_type": "code",
   "execution_count": 5,
   "metadata": {},
   "outputs": [
    {
     "data": {
      "text/plain": [
       "pandas._libs.tslib.Timestamp"
      ]
     },
     "execution_count": 5,
     "metadata": {},
     "output_type": "execute_result"
    }
   ],
   "source": [
    "# each element is a TimeStamp\n",
    "rng[0]\n",
    "type(rng[0])"
   ]
  },
  {
   "cell_type": "markdown",
   "metadata": {},
   "source": [
    "### Which of these formats DON'T work?\n",
    "'2016 Jul 1', '7/1/2016', '1/7/2016', 'July 1, 2016', '2016-07-01'\n",
    "\n",
    "\n",
    "#### You'll want to try this with pd.to_datetime\n",
    "#### All of them work. Note that 1/7/2016 is in January (pandas uses American format if ambiguous)!"
   ]
  },
  {
   "cell_type": "code",
   "execution_count": 6,
   "metadata": {
    "collapsed": true
   },
   "outputs": [],
   "source": [
    "# You may encounter the need to deal with European style formatted dates. \n",
    "# In that case, you'll want to use pd.to_datetime (with dayfirst=True)"
   ]
  },
  {
   "cell_type": "code",
   "execution_count": 7,
   "metadata": {
    "collapsed": true
   },
   "outputs": [],
   "source": [
    "# See the behavior with the following examples. Do you see the pattern?"
   ]
  },
  {
   "cell_type": "code",
   "execution_count": 8,
   "metadata": {},
   "outputs": [
    {
     "data": {
      "text/plain": [
       "Timestamp('2016-07-01 00:00:00')"
      ]
     },
     "execution_count": 8,
     "metadata": {},
     "output_type": "execute_result"
    }
   ],
   "source": [
    "pd.to_datetime('01/07/2016', dayfirst = True)"
   ]
  },
  {
   "cell_type": "code",
   "execution_count": 9,
   "metadata": {},
   "outputs": [
    {
     "data": {
      "text/plain": [
       "Timestamp('2016-01-07 00:00:00')"
      ]
     },
     "execution_count": 9,
     "metadata": {},
     "output_type": "execute_result"
    }
   ],
   "source": [
    "pd.to_datetime('01/07/2016', dayfirst = False)"
   ]
  },
  {
   "cell_type": "code",
   "execution_count": 10,
   "metadata": {},
   "outputs": [
    {
     "data": {
      "text/plain": [
       "False"
      ]
     },
     "execution_count": 10,
     "metadata": {},
     "output_type": "execute_result"
    }
   ],
   "source": [
    "pd.to_datetime('01/07/2016', dayfirst = True) == pd.to_datetime('01/07/2016', dayfirst = False)"
   ]
  },
  {
   "cell_type": "code",
   "execution_count": 11,
   "metadata": {},
   "outputs": [
    {
     "data": {
      "text/plain": [
       "False"
      ]
     },
     "execution_count": 11,
     "metadata": {},
     "output_type": "execute_result"
    }
   ],
   "source": [
    "pd.to_datetime('01-07-2016', dayfirst = True) == pd.to_datetime('01-07-2016', dayfirst = False)"
   ]
  },
  {
   "cell_type": "code",
   "execution_count": 12,
   "metadata": {},
   "outputs": [
    {
     "data": {
      "text/plain": [
       "True"
      ]
     },
     "execution_count": 12,
     "metadata": {},
     "output_type": "execute_result"
    }
   ],
   "source": [
    "pd.to_datetime('2016-01-07', dayfirst = True) == pd.to_datetime('2016-01-07', dayfirst = False)"
   ]
  },
  {
   "cell_type": "markdown",
   "metadata": {},
   "source": [
    "# Timestamps"
   ]
  },
  {
   "cell_type": "code",
   "execution_count": 13,
   "metadata": {},
   "outputs": [
    {
     "data": {
      "text/plain": [
       "Timestamp('2016-07-10 00:00:00')"
      ]
     },
     "execution_count": 13,
     "metadata": {},
     "output_type": "execute_result"
    }
   ],
   "source": [
    "# add increasing detail\n",
    "pd.Timestamp('2016-07-10')"
   ]
  },
  {
   "cell_type": "code",
   "execution_count": 14,
   "metadata": {},
   "outputs": [
    {
     "data": {
      "text/plain": [
       "Timestamp('2016-07-10 10:15:15')"
      ]
     },
     "execution_count": 14,
     "metadata": {},
     "output_type": "execute_result"
    }
   ],
   "source": [
    "pd.Timestamp('2016-07-10 10:15:15')"
   ]
  },
  {
   "cell_type": "markdown",
   "metadata": {},
   "source": [
    "### How much detail can you add?"
   ]
  },
  {
   "cell_type": "code",
   "execution_count": 15,
   "metadata": {},
   "outputs": [
    {
     "data": {
      "text/plain": [
       "Timestamp('2016-07-10 10:15:15.123124312')"
      ]
     },
     "execution_count": 15,
     "metadata": {},
     "output_type": "execute_result"
    }
   ],
   "source": [
    "# max. resulution is ns\n",
    "pd.Timestamp('2016-07-10 10:15:15.1231243125895534')"
   ]
  },
  {
   "cell_type": "markdown",
   "metadata": {},
   "source": [
    "### What are some properties of time stamps? \n",
    "Hint: http://pandas.pydata.org/pandas-docs/stable/timeseries.html#time-date-components"
   ]
  },
  {
   "cell_type": "code",
   "execution_count": 16,
   "metadata": {
    "collapsed": true
   },
   "outputs": [],
   "source": [
    "t = pd.Timestamp('2016-07-10 10:15:15')"
   ]
  },
  {
   "cell_type": "code",
   "execution_count": 17,
   "metadata": {},
   "outputs": [
    {
     "data": {
      "text/plain": [
       "3"
      ]
     },
     "execution_count": 17,
     "metadata": {},
     "output_type": "execute_result"
    }
   ],
   "source": [
    "t.quarter"
   ]
  },
  {
   "cell_type": "code",
   "execution_count": 18,
   "metadata": {},
   "outputs": [
    {
     "data": {
      "text/plain": [
       "False"
      ]
     },
     "execution_count": 18,
     "metadata": {},
     "output_type": "execute_result"
    }
   ],
   "source": [
    "t.is_quarter_end"
   ]
  },
  {
   "cell_type": "code",
   "execution_count": 19,
   "metadata": {},
   "outputs": [
    {
     "data": {
      "text/plain": [
       "'Sunday'"
      ]
     },
     "execution_count": 19,
     "metadata": {},
     "output_type": "execute_result"
    }
   ],
   "source": [
    "t.weekday_name"
   ]
  },
  {
   "cell_type": "code",
   "execution_count": 20,
   "metadata": {},
   "outputs": [
    {
     "data": {
      "text/plain": [
       "Timestamp('2016-07-10 20:00:00')"
      ]
     },
     "execution_count": 20,
     "metadata": {},
     "output_type": "execute_result"
    }
   ],
   "source": [
    "t = pd.Timestamp('2016-07-10 8 pm')\n",
    "t"
   ]
  },
  {
   "cell_type": "markdown",
   "metadata": {},
   "source": [
    "### How are time stamps lacking?"
   ]
  },
  {
   "cell_type": "code",
   "execution_count": 21,
   "metadata": {},
   "outputs": [
    {
     "data": {
      "text/plain": [
       "Timestamp('1970-01-01 00:00:00')"
      ]
     },
     "execution_count": 21,
     "metadata": {},
     "output_type": "execute_result"
    }
   ],
   "source": [
    "# starting point\n",
    "pd.to_datetime(0, unit='ns')"
   ]
  },
  {
   "cell_type": "markdown",
   "metadata": {},
   "source": [
    "# Time offsets"
   ]
  },
  {
   "cell_type": "code",
   "execution_count": 22,
   "metadata": {},
   "outputs": [
    {
     "data": {
      "text/plain": [
       "Timedelta('1 days 00:00:00.000001')"
      ]
     },
     "execution_count": 22,
     "metadata": {},
     "output_type": "execute_result"
    }
   ],
   "source": [
    "pd.Timedelta('1 day 1us')"
   ]
  },
  {
   "cell_type": "code",
   "execution_count": 23,
   "metadata": {},
   "outputs": [
    {
     "data": {
      "text/plain": [
       "Timestamp('2016-07-01 09:30:00')"
      ]
     },
     "execution_count": 23,
     "metadata": {},
     "output_type": "execute_result"
    }
   ],
   "source": [
    "pd.Timestamp('2016-07-01 8:00') + pd.Timedelta('1.5 hours')"
   ]
  },
  {
   "cell_type": "code",
   "execution_count": 24,
   "metadata": {},
   "outputs": [
    {
     "data": {
      "text/plain": [
       "Timedelta('0 days 00:00:00.000015')"
      ]
     },
     "execution_count": 24,
     "metadata": {},
     "output_type": "execute_result"
    }
   ],
   "source": [
    "pd.Timedelta('15ns')*1000 #bug? what kind of bug?\n",
    "# The format only shows down to ms, but it is there. Try *1000."
   ]
  },
  {
   "cell_type": "code",
   "execution_count": 25,
   "metadata": {},
   "outputs": [
    {
     "data": {
      "text/plain": [
       "DatetimeIndex(['2016-07-31', '2016-08-31', '2016-09-30', '2016-10-31',\n",
       "               '2016-11-30', '2016-12-31', '2017-01-31', '2017-02-28',\n",
       "               '2017-03-31', '2017-04-30'],\n",
       "              dtype='datetime64[ns]', freq='M')"
      ]
     },
     "execution_count": 25,
     "metadata": {},
     "output_type": "execute_result"
    }
   ],
   "source": [
    "rng"
   ]
  },
  {
   "cell_type": "code",
   "execution_count": 26,
   "metadata": {},
   "outputs": [
    {
     "data": {
      "text/plain": [
       "DatetimeIndex(['2016-08-01', '2016-09-01', '2016-10-01', '2016-11-01',\n",
       "               '2016-12-01', '2017-01-01', '2017-02-01', '2017-03-01',\n",
       "               '2017-04-01', '2017-05-01'],\n",
       "              dtype='datetime64[ns]', freq='MS')"
      ]
     },
     "execution_count": 26,
     "metadata": {},
     "output_type": "execute_result"
    }
   ],
   "source": [
    "rng + pd.Timedelta('1day')"
   ]
  },
  {
   "cell_type": "markdown",
   "metadata": {},
   "source": [
    "# Time spans"
   ]
  },
  {
   "cell_type": "code",
   "execution_count": 27,
   "metadata": {},
   "outputs": [
    {
     "data": {
      "text/plain": [
       "Period('2016-07', 'M')"
      ]
     },
     "execution_count": 27,
     "metadata": {},
     "output_type": "execute_result"
    }
   ],
   "source": [
    "p = pd.Period('7/2016')\n",
    "# feed month/year --> default period = 1month\n",
    "# feed date/month/year --> default period = 1day, ... and so on ...\n",
    "p"
   ]
  },
  {
   "cell_type": "code",
   "execution_count": 28,
   "metadata": {},
   "outputs": [
    {
     "data": {
      "text/plain": [
       "True"
      ]
     },
     "execution_count": 28,
     "metadata": {},
     "output_type": "execute_result"
    }
   ],
   "source": [
    "t = pd.Timestamp('7/21/2016')\n",
    "p.start_time < t and p.end_time > t"
   ]
  },
  {
   "cell_type": "code",
   "execution_count": 29,
   "metadata": {},
   "outputs": [
    {
     "data": {
      "text/plain": [
       "PeriodIndex(['2016-01-01 12:00', '2016-01-01 13:00', '2016-01-01 14:00',\n",
       "             '2016-01-01 15:00', '2016-01-01 16:00', '2016-01-01 17:00',\n",
       "             '2016-01-01 18:00', '2016-01-01 19:00', '2016-01-01 20:00',\n",
       "             '2016-01-01 21:00'],\n",
       "            dtype='period[H]', freq='H')"
      ]
     },
     "execution_count": 29,
     "metadata": {},
     "output_type": "execute_result"
    }
   ],
   "source": [
    "# note the rounding in time\n",
    "rng = pd.period_range('2016-01-01 12:15', freq = 'H', periods = 10)\n",
    "rng"
   ]
  },
  {
   "cell_type": "code",
   "execution_count": 30,
   "metadata": {},
   "outputs": [
    {
     "data": {
      "text/plain": [
       "PeriodIndex(['2016-01-01 12:15', '2016-01-01 13:15', '2016-01-01 14:15',\n",
       "             '2016-01-01 15:15', '2016-01-01 16:15', '2016-01-01 17:15',\n",
       "             '2016-01-01 18:15', '2016-01-01 19:15', '2016-01-01 20:15',\n",
       "             '2016-01-01 21:15'],\n",
       "            dtype='period[60T]', freq='60T')"
      ]
     },
     "execution_count": 30,
     "metadata": {},
     "output_type": "execute_result"
    }
   ],
   "source": [
    "# the rounding time is fixed\n",
    "rng = pd.period_range('2016-01-01 12:15', freq = '60T', periods = 10)\n",
    "rng"
   ]
  },
  {
   "cell_type": "code",
   "execution_count": 31,
   "metadata": {},
   "outputs": [
    {
     "data": {
      "text/plain": [
       "PeriodIndex(['2016-01-01 12:00', '2016-01-01 13:00', '2016-01-01 14:00',\n",
       "             '2016-01-01 15:00', '2016-01-01 16:00', '2016-01-01 17:00',\n",
       "             '2016-01-01 18:00', '2016-01-01 19:00', '2016-01-01 20:00',\n",
       "             '2016-01-01 21:00'],\n",
       "            dtype='period[H]', freq='H')"
      ]
     },
     "execution_count": 31,
     "metadata": {},
     "output_type": "execute_result"
    }
   ],
   "source": [
    "rng = pd.period_range('2016-01-01 12:15', freq = '1H', periods = 10)\n",
    "rng"
   ]
  },
  {
   "cell_type": "markdown",
   "metadata": {},
   "source": [
    "### How can you determine whether a timestamp falls within a given period?"
   ]
  },
  {
   "cell_type": "code",
   "execution_count": 32,
   "metadata": {},
   "outputs": [
    {
     "data": {
      "text/plain": [
       "False"
      ]
     },
     "execution_count": 32,
     "metadata": {},
     "output_type": "execute_result"
    }
   ],
   "source": [
    "p_temp = pd.Period('2017-06-13')\n",
    "t_temp = pd.Timestamp('2017-08-13 16:34')\n",
    "p_temp.start_time < t_temp and t_temp < p_temp.end_time"
   ]
  },
  {
   "cell_type": "code",
   "execution_count": 33,
   "metadata": {},
   "outputs": [
    {
     "data": {
      "text/plain": [
       "False"
      ]
     },
     "execution_count": 33,
     "metadata": {},
     "output_type": "execute_result"
    }
   ],
   "source": [
    "# This also works\n",
    "p_temp.start_time < t_temp < p_temp.end_time"
   ]
  },
  {
   "cell_type": "code",
   "execution_count": 34,
   "metadata": {
    "collapsed": true
   },
   "outputs": [],
   "source": [
    "# %load snippets/startend.py"
   ]
  },
  {
   "cell_type": "markdown",
   "metadata": {},
   "source": [
    "### Try out some other functionality with different offset-aliases. Anything interesting?"
   ]
  },
  {
   "cell_type": "code",
   "execution_count": 35,
   "metadata": {
    "scrolled": true
   },
   "outputs": [
    {
     "data": {
      "text/plain": [
       "DatetimeIndex(['2017-06-13 21:14:00', '2017-06-14 21:14:00',\n",
       "               '2017-06-15 21:14:00', '2017-06-16 21:14:00',\n",
       "               '2017-06-19 21:14:00', '2017-06-20 21:14:00',\n",
       "               '2017-06-21 21:14:00', '2017-06-22 21:14:00',\n",
       "               '2017-06-23 21:14:00', '2017-06-26 21:14:00'],\n",
       "              dtype='datetime64[ns]', freq='B')"
      ]
     },
     "execution_count": 35,
     "metadata": {},
     "output_type": "execute_result"
    }
   ],
   "source": [
    "rng = pd.date_range('2017-06-13 21:14', periods=10, freq='B')\n",
    "rng"
   ]
  },
  {
   "cell_type": "markdown",
   "metadata": {},
   "source": [
    "### How can you make a pandas Time Series with these aliases?"
   ]
  },
  {
   "cell_type": "code",
   "execution_count": 36,
   "metadata": {
    "collapsed": true
   },
   "outputs": [],
   "source": [
    "num_periods = 40\n",
    "ts_pd = pd.Series(range(num_periods), pd.period_range('2016-07-01 11:15', freq = '60T', periods = num_periods))"
   ]
  },
  {
   "cell_type": "code",
   "execution_count": 37,
   "metadata": {
    "scrolled": true
   },
   "outputs": [
    {
     "data": {
      "text/plain": [
       "2016-07-01 11:15    0\n",
       "2016-07-01 12:15    1\n",
       "2016-07-01 13:15    2\n",
       "2016-07-01 14:15    3\n",
       "2016-07-01 15:15    4\n",
       "2016-07-01 16:15    5\n",
       "2016-07-01 17:15    6\n",
       "2016-07-01 18:15    7\n",
       "Freq: 60T, dtype: int32"
      ]
     },
     "execution_count": 37,
     "metadata": {},
     "output_type": "execute_result"
    }
   ],
   "source": [
    "ts_pd['2016-7-1 11':'2016-7-1 18']"
   ]
  },
  {
   "cell_type": "code",
   "execution_count": 38,
   "metadata": {},
   "outputs": [
    {
     "data": {
      "text/plain": [
       "Period('2016-07-01 11:15', '60T')"
      ]
     },
     "execution_count": 38,
     "metadata": {},
     "output_type": "execute_result"
    }
   ],
   "source": [
    "type(ts_pd.index[0])\n",
    "ts_pd.index[0]"
   ]
  },
  {
   "cell_type": "markdown",
   "metadata": {},
   "source": [
    "### How can we index a time series with a date_range?"
   ]
  },
  {
   "cell_type": "code",
   "execution_count": 39,
   "metadata": {},
   "outputs": [
    {
     "data": {
      "text/plain": [
       "2016-07-01 11:15:00    0\n",
       "2016-07-01 12:15:00    1\n",
       "2016-07-01 13:15:00    2\n",
       "2016-07-01 14:15:00    3\n",
       "2016-07-01 15:15:00    4\n",
       "2016-07-01 16:15:00    5\n",
       "2016-07-01 17:15:00    6\n",
       "2016-07-01 18:15:00    7\n",
       "Freq: 60T, dtype: int32"
      ]
     },
     "execution_count": 39,
     "metadata": {},
     "output_type": "execute_result"
    }
   ],
   "source": [
    "num_periods = 40\n",
    "ts_dt = pd.Series(range(num_periods), pd.date_range('2016-07-01 11:15', freq = '60T', periods = num_periods))\n",
    "ts_dt['2016-7-1 11':'2016-7-1 18']"
   ]
  },
  {
   "cell_type": "code",
   "execution_count": 40,
   "metadata": {},
   "outputs": [
    {
     "data": {
      "text/plain": [
       "Timestamp('2016-07-01 11:15:00', freq='60T')"
      ]
     },
     "execution_count": 40,
     "metadata": {},
     "output_type": "execute_result"
    }
   ],
   "source": [
    "type(ts_dt.index[0])\n",
    "ts_dt.index[0]"
   ]
  },
  {
   "cell_type": "markdown",
   "metadata": {},
   "source": [
    "### What are the use cases for a series with a DateTimeIndex vs a PeriodIndex? Where will we see a difference?"
   ]
  },
  {
   "cell_type": "code",
   "execution_count": 41,
   "metadata": {},
   "outputs": [
    {
     "data": {
      "text/plain": [
       "2016-07-01 11:15:00    0\n",
       "Freq: 60T, dtype: int32"
      ]
     },
     "execution_count": 41,
     "metadata": {},
     "output_type": "execute_result"
    }
   ],
   "source": [
    "# Timestamp is a point in time\n",
    "ts_dt['2016-7-1 11']"
   ]
  },
  {
   "cell_type": "code",
   "execution_count": 42,
   "metadata": {},
   "outputs": [
    {
     "name": "stdout",
     "output_type": "stream",
     "text": [
      "2016-07-01 11:15    0\n",
      "2016-07-01 12:15    1\n",
      "Freq: 60T, dtype: int32\n",
      "Starting Timestamp:  2016-07-01 11:15:00\n",
      "Ending Timestamp:  2016-07-01 12:14:59.999999999\n"
     ]
    }
   ],
   "source": [
    "# Period is an interval which in this case is 60T\n",
    "# Tt spans from one Timestamp to another Timestamp\n",
    "print(ts_pd['2016-7-1 11'])\n",
    "\n",
    "print(\"Starting Timestamp: \", ts_pd['2016-7-1 11'].index[0].start_time)\n",
    "print(\"Ending Timestamp: \", ts_pd['2016-7-1 11'].index[0].end_time)"
   ]
  },
  {
   "cell_type": "markdown",
   "metadata": {},
   "source": [
    "### Grab everything on July 1 and July 2"
   ]
  },
  {
   "cell_type": "code",
   "execution_count": 140,
   "metadata": {},
   "outputs": [
    {
     "data": {
      "text/plain": [
       "2016-07-01 11:15     0\n",
       "2016-07-01 12:15     1\n",
       "2016-07-01 13:15     2\n",
       "2016-07-01 14:15     3\n",
       "2016-07-01 15:15     4\n",
       "2016-07-01 16:15     5\n",
       "2016-07-01 17:15     6\n",
       "2016-07-01 18:15     7\n",
       "2016-07-01 19:15     8\n",
       "2016-07-01 20:15     9\n",
       "2016-07-01 21:15    10\n",
       "2016-07-01 22:15    11\n",
       "2016-07-01 23:15    12\n",
       "2016-07-02 00:15    13\n",
       "2016-07-02 01:15    14\n",
       "2016-07-02 02:15    15\n",
       "2016-07-02 03:15    16\n",
       "2016-07-02 04:15    17\n",
       "2016-07-02 05:15    18\n",
       "2016-07-02 06:15    19\n",
       "2016-07-02 07:15    20\n",
       "2016-07-02 08:15    21\n",
       "2016-07-02 09:15    22\n",
       "2016-07-02 10:15    23\n",
       "2016-07-02 11:15    24\n",
       "2016-07-02 12:15    25\n",
       "2016-07-02 13:15    26\n",
       "2016-07-02 14:15    27\n",
       "2016-07-02 15:15    28\n",
       "2016-07-02 16:15    29\n",
       "2016-07-02 17:15    30\n",
       "2016-07-02 18:15    31\n",
       "2016-07-02 19:15    32\n",
       "2016-07-02 20:15    33\n",
       "2016-07-02 21:15    34\n",
       "2016-07-02 22:15    35\n",
       "2016-07-02 23:15    36\n",
       "Freq: 60T, dtype: int32"
      ]
     },
     "execution_count": 140,
     "metadata": {},
     "output_type": "execute_result"
    }
   ],
   "source": [
    "ts_pd['2016-7-1':'2016-7-2']"
   ]
  },
  {
   "cell_type": "code",
   "execution_count": 146,
   "metadata": {},
   "outputs": [
    {
     "data": {
      "text/plain": [
       "2016-07-01 11:15     0\n",
       "2016-07-01 14:15     3\n",
       "2016-07-01 17:15     6\n",
       "2016-07-01 20:15     9\n",
       "2016-07-01 23:15    12\n",
       "2016-07-02 02:15    15\n",
       "2016-07-02 05:15    18\n",
       "2016-07-02 08:15    21\n",
       "2016-07-02 11:15    24\n",
       "2016-07-02 14:15    27\n",
       "2016-07-02 17:15    30\n",
       "2016-07-02 20:15    33\n",
       "2016-07-02 23:15    36\n",
       "Freq: 60T, dtype: int32"
      ]
     },
     "execution_count": 146,
     "metadata": {},
     "output_type": "execute_result"
    }
   ],
   "source": [
    "# playing with index slicing\n",
    "ts_pd['2016-7-1':'2016-7-2':3]"
   ]
  },
  {
   "cell_type": "code",
   "execution_count": 152,
   "metadata": {},
   "outputs": [
    {
     "data": {
      "text/plain": [
       "2016-07-02 23:15    36\n",
       "2016-07-02 21:15    34\n",
       "2016-07-02 19:15    32\n",
       "2016-07-02 17:15    30\n",
       "2016-07-02 15:15    28\n",
       "2016-07-02 13:15    26\n",
       "2016-07-02 11:15    24\n",
       "2016-07-02 09:15    22\n",
       "2016-07-02 07:15    20\n",
       "2016-07-02 05:15    18\n",
       "2016-07-02 03:15    16\n",
       "2016-07-02 01:15    14\n",
       "2016-07-01 23:15    12\n",
       "2016-07-01 21:15    10\n",
       "2016-07-01 19:15     8\n",
       "2016-07-01 17:15     6\n",
       "2016-07-01 15:15     4\n",
       "2016-07-01 13:15     2\n",
       "2016-07-01 11:15     0\n",
       "Freq: 60T, dtype: int32"
      ]
     },
     "execution_count": 152,
     "metadata": {},
     "output_type": "execute_result"
    }
   ],
   "source": [
    "ts_pd['2016-7-2'::-2]"
   ]
  },
  {
   "cell_type": "markdown",
   "metadata": {},
   "source": [
    "### How can we convert between a DateTimeIndex and a PeriodIndex?"
   ]
  },
  {
   "cell_type": "code",
   "execution_count": 57,
   "metadata": {},
   "outputs": [
    {
     "data": {
      "text/plain": [
       "2016-07-01 11:15     0\n",
       "2016-07-01 12:15     1\n",
       "2016-07-01 13:15     2\n",
       "2016-07-01 14:15     3\n",
       "2016-07-01 15:15     4\n",
       "2016-07-01 16:15     5\n",
       "2016-07-01 17:15     6\n",
       "2016-07-01 18:15     7\n",
       "2016-07-01 19:15     8\n",
       "2016-07-01 20:15     9\n",
       "2016-07-01 21:15    10\n",
       "2016-07-01 22:15    11\n",
       "2016-07-01 23:15    12\n",
       "2016-07-02 00:15    13\n",
       "2016-07-02 01:15    14\n",
       "2016-07-02 02:15    15\n",
       "2016-07-02 03:15    16\n",
       "2016-07-02 04:15    17\n",
       "2016-07-02 05:15    18\n",
       "2016-07-02 06:15    19\n",
       "2016-07-02 07:15    20\n",
       "2016-07-02 08:15    21\n",
       "2016-07-02 09:15    22\n",
       "2016-07-02 10:15    23\n",
       "2016-07-02 11:15    24\n",
       "2016-07-02 12:15    25\n",
       "2016-07-02 13:15    26\n",
       "2016-07-02 14:15    27\n",
       "2016-07-02 15:15    28\n",
       "2016-07-02 16:15    29\n",
       "2016-07-02 17:15    30\n",
       "2016-07-02 18:15    31\n",
       "2016-07-02 19:15    32\n",
       "2016-07-02 20:15    33\n",
       "2016-07-02 21:15    34\n",
       "2016-07-02 22:15    35\n",
       "2016-07-02 23:15    36\n",
       "2016-07-03 00:15    37\n",
       "2016-07-03 01:15    38\n",
       "2016-07-03 02:15    39\n",
       "Freq: 60T, dtype: int32"
      ]
     },
     "execution_count": 57,
     "metadata": {},
     "output_type": "execute_result"
    }
   ],
   "source": [
    "aa=ts_dt.to_period(freq=ts_dt.index[0].freq)\n",
    "# ts_pd.to_timestamp()\n",
    "aa"
   ]
  },
  {
   "cell_type": "markdown",
   "metadata": {},
   "source": [
    "# Try\n",
    "\n",
    "(1) How can you create a pd.Timestamp with a European style formatted date string? hint: dayfirst flag\n",
    "\n",
    "(2) How can you generate string representation in a desired format from a pd.Timestamp? "
   ]
  },
  {
   "cell_type": "code",
   "execution_count": 134,
   "metadata": {},
   "outputs": [
    {
     "name": "stdout",
     "output_type": "stream",
     "text": [
      "Timestamp default: 2016-07-15 00:00:00\n",
      "Feed Timestamp to format converter 2016-07-15 00:00:00\n",
      "Feed string to format converter 2016-12-07 00:00:00\n",
      "Feed string (feed month>12) to format converter (It swaps the order for you. Not great!) 2016-07-15 00:00:00\n",
      "\n",
      "2016/12/07-Wed. to_datetime produces <class 'pandas._libs.tslib.Timestamp'>\n",
      "2016/07/12-Tue. Timestamp produces <class 'pandas._libs.tslib.Timestamp'>\n"
     ]
    }
   ],
   "source": [
    "print('Timestamp default:', pd.Timestamp('07-15-2016'))\n",
    "print('Feed Timestamp to format converter', pd.to_datetime(pd.Timestamp('07-15-2016'), dayfirst=True))\n",
    "print('Feed string to format converter', pd.to_datetime('07-12-2016', dayfirst=True))\n",
    "print('Feed string (feed month>12) to format converter (It swaps the order for you. Not great!)', pd.to_datetime('07-15-2016', dayfirst=True))\n",
    "\n",
    "print()\n",
    "\n",
    "# fromat using Python's strftime\n",
    "t1 = pd.to_datetime('07-12-2016', dayfirst=True)\n",
    "print(t1.strftime(format = '%Y/%m/%d-%a') + '. to_datetime produces ' + str(type(t1)))\n",
    "t2 = pd.Timestamp('07-12-2016')\n",
    "print(t2.strftime(format = '%Y/%m/%d-%a') + '. Timestamp produces ' + str(type(t2)))"
   ]
  },
  {
   "cell_type": "code",
   "execution_count": 137,
   "metadata": {},
   "outputs": [
    {
     "name": "stdout",
     "output_type": "stream",
     "text": [
      "2016/06/18\n",
      "2016/06/18\n"
     ]
    }
   ],
   "source": [
    "# %load snippets/try1.py\n",
    "# %M = minute, %D = month/date/year\n",
    "t1 = pd.to_datetime('2016-06-18 12:15pm', dayfirst = True).strftime(format = '%Y/%m/%d')\n",
    "print(t1)\n",
    "\n",
    "t2 = pd.Timestamp('2016-06-18 12:15pm').strftime(format = '%Y/%m/%d')\n",
    "print(t2)"
   ]
  },
  {
   "cell_type": "code",
   "execution_count": null,
   "metadata": {
    "collapsed": true
   },
   "outputs": [],
   "source": []
  }
 ],
 "metadata": {
  "kernelspec": {
   "display_name": "Python [default]",
   "language": "python",
   "name": "python3"
  },
  "language_info": {
   "codemirror_mode": {
    "name": "ipython",
    "version": 3
   },
   "file_extension": ".py",
   "mimetype": "text/x-python",
   "name": "python",
   "nbconvert_exporter": "python",
   "pygments_lexer": "ipython3",
   "version": "3.5.3"
  },
  "widgets": {
   "state": {},
   "version": "1.1.1"
  }
 },
 "nbformat": 4,
 "nbformat_minor": 1
}
